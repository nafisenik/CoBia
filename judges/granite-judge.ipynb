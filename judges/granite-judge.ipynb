{
 "cells": [
  {
   "cell_type": "code",
   "execution_count": null,
   "id": "f8d3fe31",
   "metadata": {},
   "outputs": [],
   "source": [
    "model_name = \"qwen2.5:7b\" # or other models to test\n",
    "baseline_name = \"roleplay\" # or set other baselines / methods\n",
    "input_folder = f'../method_outputs/{baseline_name}/{model_name}'\n",
    "output_folder = f'../judge_outputs/granite/{baseline_name}/{model_name}'"
   ]
  },
  {
   "cell_type": "code",
   "execution_count": null,
   "id": "d158970e-73b0-4e1c-b997-c75a16fc22df",
   "metadata": {},
   "outputs": [],
   "source": [
    "import openai\n",
    "\n",
    "client = openai.OpenAI(\n",
    "    base_url='http://localhost:11434/v1',\n",
    "    api_key='ollama'  \n",
    ")\n"
   ]
  },
  {
   "cell_type": "code",
   "execution_count": null,
   "id": "c0074362",
   "metadata": {},
   "outputs": [],
   "source": [
    "def run(input_txt):\n",
    "\n",
    "    response = client.chat.completions.create(\n",
    "        model=\"granite3-guardian:8b\",\n",
    "        messages=[\n",
    "            {\"role\": \"system\", \"content\": ''},\n",
    "            {\"role\": \"user\", \"content\": input_txt}\n",
    "        ]\n",
    "    )\n",
    "\n",
    "    res = response.choices[0].message.content\n",
    "\n",
    "    \n",
    "    return res.lower()"
   ]
  },
  {
   "cell_type": "code",
   "execution_count": null,
   "id": "76d0632f-425b-4208-a38f-70b8105f796a",
   "metadata": {},
   "outputs": [],
   "source": [
    "import os\n",
    "import json\n",
    "from tqdm import tqdm\n",
    "\n",
    "# Ensure output folder exists\n",
    "os.makedirs(output_folder, exist_ok=True)\n",
    "\n",
    "# Process each file in the input folder\n",
    "for entry in tqdm(os.scandir(input_folder)):\n",
    "    if entry.is_file():  # Ensures it's a file\n",
    "        input_file_path = entry.path\n",
    "        output_file_path = os.path.join(output_folder, entry.name)\n",
    "        \n",
    "        if os.path.exists(output_file_path):\n",
    "            continue\n",
    "        \n",
    "        with open(input_file_path, 'r') as f:\n",
    "            data = json.load(f)\n",
    "\n",
    "        statement_text = data['output']\n",
    "        try:\n",
    "            res = run(statement_text)\n",
    "        except Exception as e:\n",
    "            print(f\"Error processing {entry.name}\")\n",
    "            continue\n",
    "\n",
    "        data['judge'] = res\n",
    "\n",
    "        with open(output_file_path, 'w') as f:\n",
    "            json.dump(data, f, indent=4)  # `indent=4` makes it pretty-printed"
   ]
  }
 ],
 "metadata": {
  "kernelspec": {
   "display_name": "Python 3 (ipykernel)",
   "language": "python",
   "name": "python3"
  },
  "language_info": {
   "codemirror_mode": {
    "name": "ipython",
    "version": 3
   },
   "file_extension": ".py",
   "mimetype": "text/x-python",
   "name": "python",
   "nbconvert_exporter": "python",
   "pygments_lexer": "ipython3",
   "version": "3.10.9"
  }
 },
 "nbformat": 4,
 "nbformat_minor": 5
}
