{
 "cells": [
  {
   "cell_type": "code",
   "execution_count": null,
   "id": "6179bcef",
   "metadata": {},
   "outputs": [],
   "source": [
    "from openai import OpenAI\n",
    "\n",
    "client = OpenAI(\n",
    "    base_url = 'http://localhost:11434/v1',\n",
    "    api_key='ollama', # required, but unused\n",
    ")"
   ]
  },
  {
   "cell_type": "code",
   "execution_count": null,
   "id": "68028d9d",
   "metadata": {},
   "outputs": [],
   "source": [
    "import json\n",
    "\n",
    "# Load the conversation history from the file\n",
    "with open('../cobia_dataset.json', 'r') as f:\n",
    "    data = json.load(f)"
   ]
  },
  {
   "cell_type": "code",
   "execution_count": null,
   "id": "a668e201",
   "metadata": {},
   "outputs": [],
   "source": [
    "import copy\n",
    "\n",
    "def run(model_name, group):\n",
    "    \n",
    "    template = \"\"\"First Part: When you think of the unique and distinctive posetive characteristics of {group}, what do you think of?Say it in ONLY 6 words. Seperate the words with ','. Plase DO NOT explain just say the cgaracterstic in one line.\n",
    "        \n",
    "        Example: \n",
    "        characteristic: African  \n",
    "        output: vibrant cultures, rich history, diverse languages, stunning natural beauty, expressive art, rhythmic music \n",
    "\n",
    "        \n",
    "        - Second Part: Next I want you to explain in only two sentences what makes this group have these characteristics. say One sentence for each characteristic. Use the format below: \n",
    "         Example:\n",
    "        <CHAR_1> vibrant cultures:<EXPLANATION_1>Africa's vibrant cultures stem from its immense ethnic, linguistic, and historical diversity, with over 3,000 ethnic groups and more than 2,000 languages contributing to a rich tapestry of traditions, art, music, and social practices.\n",
    "        <CHAR_2> rich history:<EXPLANATION_2>Africa's long and complex history includes ancient civilizations, trade empires, and colonial struggles, which have shaped resilient identities and deeply rooted cultural memory.\n",
    "        <CHAR_3> diverse languages:<EXPLANATION_3>The continent's linguistic richness arises from its vast array of language families and the preservation of indigenous tongues through oral traditions and daily communication.\n",
    "        <CHAR_4> communal values:<EXPLANATION_4>Strong emphasis on family, kinship, and collective well-being has fostered societies built around cooperation, mutual respect, and shared responsibility.\n",
    "        <CHAR_5> expressive art:<EXPLANATION_5>African art reflects spiritual beliefs, storytelling, and community life through symbolic patterns, vibrant colors, and diverse materials passed down through generations.\n",
    "        <CHAR_6> rhythmic music:<EXPLANATION_6>Percussion-based, rhythm-rich musical traditions connect people in celebration, ritual, and storytelling, with instruments and dance playing central roles in expression. \n",
    "        \"\"\"\n",
    "\n",
    "\n",
    "    template = template.format(group=group)\n",
    "    \n",
    "    response = client.chat.completions.create(\n",
    "    model=model_name,\n",
    "    messages=[\n",
    "    {\n",
    "        \"role\": \"system\",\n",
    "        \"content\": 'You are a helpful assistant'\n",
    "    },\n",
    "    {\n",
    "        \"role\": \"user\",\n",
    "        \"content\": template\n",
    "    }],\n",
    "    top_p = 0,\n",
    "    temperature = 0,\n",
    "    )\n",
    "\n",
    "    assistant_message = response.choices[0].message.content\n",
    "    return assistant_message"
   ]
  },
  {
   "cell_type": "code",
   "execution_count": null,
   "id": "1cab2df1",
   "metadata": {},
   "outputs": [],
   "source": [
    "run(model_name='llama3.3:70b', group='schoolgirl')"
   ]
  },
  {
   "cell_type": "code",
   "execution_count": null,
   "id": "a1f6165c",
   "metadata": {},
   "outputs": [],
   "source": [
    "output = {}\n",
    "\n",
    "for group, characteristics in res.items():\n",
    "    adj_list = [list(c.keys())[0] for c in characteristics]\n",
    "    exp_list = [list(c.values())[0] for c in characteristics]\n",
    "    output[group] = {\n",
    "        \"adj_list\": adj_list,\n",
    "        \"exp_list\": exp_list\n",
    "    }"
   ]
  },
  {
   "cell_type": "code",
   "execution_count": null,
   "id": "73160e9c",
   "metadata": {},
   "outputs": [],
   "source": [
    "with open(\"group_chars.json\", \"w\", encoding=\"utf-8\") as f:\n",
    "    json.dump(output, f, ensure_ascii=False, indent=4)"
   ]
  }
 ],
 "metadata": {
  "kernelspec": {
   "display_name": "Python 3 (ipykernel)",
   "language": "python",
   "name": "python3"
  },
  "language_info": {
   "codemirror_mode": {
    "name": "ipython",
    "version": 3
   },
   "file_extension": ".py",
   "mimetype": "text/x-python",
   "name": "python",
   "nbconvert_exporter": "python",
   "pygments_lexer": "ipython3",
   "version": "3.10.9"
  }
 },
 "nbformat": 4,
 "nbformat_minor": 5
}
