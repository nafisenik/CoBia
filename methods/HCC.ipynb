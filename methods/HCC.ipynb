{
 "cells": [
  {
   "cell_type": "code",
   "execution_count": null,
   "id": "595c90b1",
   "metadata": {},
   "outputs": [],
   "source": [
    "model_name = \"qwen2.5:7b\"\n",
    "model_path_name = f'../method_outputs/HCC/{model_name}'\n",
    "template_path = '../prompt-templates/HCC-template.json'\n",
    "data_path = '../dataset/cobia_dataset.json'\n",
    "adj_path = '../dataset/cobia_extension/group_chars.json'\n",
    "neg_path = '../dataset/cobia_extension/negative_description.json'"
   ]
  },
  {
   "cell_type": "code",
   "execution_count": null,
   "id": "e1e206dd-5c36-4af3-a301-561a4f01c491",
   "metadata": {},
   "outputs": [],
   "source": [
    "from openai import OpenAI\n",
    "\n",
    "client = OpenAI(\n",
    "    base_url = 'http://localhost:11434/v1',\n",
    "    api_key='ollama', # required, but unused\n",
    ")"
   ]
  },
  {
   "cell_type": "code",
   "execution_count": null,
   "id": "64cef71d-7124-4428-91dd-9fe3d0c24f35",
   "metadata": {},
   "outputs": [],
   "source": [
    "import json\n",
    "\n",
    "# Load the conversation history from the file\n",
    "with open(template_path, 'r') as f:\n",
    "    conversation_history = json.load(f)"
   ]
  },
  {
   "cell_type": "code",
   "execution_count": null,
   "id": "8ef86c4e",
   "metadata": {},
   "outputs": [],
   "source": [
    "import json\n",
    "\n",
    "# Load the conversation history from the file\n",
    "with open(adj_path, 'r') as f:\n",
    "    adjs = json.load(f)\n",
    "    \n",
    "with open(neg_path, 'r') as f:\n",
    "    negs = json.load(f)"
   ]
  },
  {
   "cell_type": "code",
   "execution_count": null,
   "id": "38a5f1cc-9b23-49d7-a275-5e893dcf40d1",
   "metadata": {},
   "outputs": [],
   "source": [
    "import copy\n",
    "\n",
    "def run(model_name, ethnicity, adj1, adj2, adj3, adj4, adj5, adj6, exp3, exp4, exp6, neg, neg2, expneg2):\n",
    "\n",
    "    messages = copy.deepcopy(conversation_history)\n",
    "\n",
    "    \n",
    "    for entry in messages:\n",
    "        entry['content'] = entry['content'].format(ethnicity=ethnicity,adj1=adj1, adj2=adj2, adj3=adj3, adj4=adj4, adj5=adj5, adj6=adj6, exp3=exp3, exp4=exp4, exp6=exp6, neg=neg, neg2=neg2, expneg2=expneg2)\n",
    "    \n",
    "\n",
    "    response = client.chat.completions.create(\n",
    "    model=model_name,\n",
    "    messages=messages,\n",
    "    top_p = 0,\n",
    "    temperature = 0)\n",
    "\n",
    "    assistant_message = response.choices[0].message.content\n",
    "    return assistant_message"
   ]
  },
  {
   "cell_type": "code",
   "execution_count": null,
   "id": "381e10b5-2f2c-4375-a2fa-6730d14951e0",
   "metadata": {},
   "outputs": [],
   "source": [
    "import os\n",
    "from tqdm import tqdm\n",
    "\n",
    "\n",
    "with open(data_path, 'r') as json_file:\n",
    "    data = json.load(json_file)\n",
    "\n",
    "if not os.path.exists(model_path_name):\n",
    "    os.makedirs(model_path_name)\n",
    "    \n",
    "for key, dict_list in data.items():\n",
    "    for item in tqdm(dict_list):\n",
    "        \n",
    "        \n",
    "        desc = adjs[key]\n",
    "        adj1=desc['adj_list'][0]\n",
    "        adj2=desc['adj_list'][1]\n",
    "        adj3=desc['adj_list'][2]\n",
    "        adj4=desc['adj_list'][3]\n",
    "        adj5=desc['adj_list'][4]\n",
    "        adj6=desc['adj_list'][5]\n",
    "        exp3=desc['exp_list'][2]\n",
    "        exp4=desc['exp_list'][3]\n",
    "        exp6=desc['exp_list'][5]\n",
    "        \n",
    "        expneg2 = negs[item['negative_term']]\n",
    "        \n",
    "        file_name = f\"{key}-{item['descriptor']}.json\".replace('/', '')\n",
    "        file_path = os.path.join(model_path_name, file_name)\n",
    "        if os.path.exists(file_path):\n",
    "            continue\n",
    "            \n",
    "        pos_list = adjs[key]\n",
    "        \n",
    "\n",
    "        try:\n",
    "            output_text  = run(model_name, key, adj1, adj2, adj3, adj4, adj5, adj6, exp3, exp4, exp6, item['descriptor'], item['negative_term'], expneg2)\n",
    "        except:\n",
    "            print(f\"Error writing to file: {file_path}\")\n",
    "            continue\n",
    "\n",
    "        result = {\n",
    "                \"group\": key,\n",
    "                \"descriptor\": item['descriptor'],\n",
    "                \"negative_term\": item['negative_term'],\n",
    "                \"bias_type\": item[\"bias_type\"],\n",
    "                \"source\": item[\"source\"],  \n",
    "                \"output\": output_text,\n",
    "        }\n",
    "        with open(file_path, \"w\") as file:\n",
    "            json.dump(result, file, indent=4)"
   ]
  },
  {
   "cell_type": "code",
   "execution_count": null,
   "id": "945c300d-0f6f-46f1-84d9-fafb56f85af3",
   "metadata": {},
   "outputs": [],
   "source": []
  }
 ],
 "metadata": {
  "kernelspec": {
   "display_name": "Python 3 (ipykernel)",
   "language": "python",
   "name": "python3"
  },
  "language_info": {
   "codemirror_mode": {
    "name": "ipython",
    "version": 3
   },
   "file_extension": ".py",
   "mimetype": "text/x-python",
   "name": "python",
   "nbconvert_exporter": "python",
   "pygments_lexer": "ipython3",
   "version": "3.10.9"
  }
 },
 "nbformat": 4,
 "nbformat_minor": 5
}
