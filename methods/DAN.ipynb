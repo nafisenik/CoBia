{
 "cells": [
  {
   "cell_type": "code",
   "execution_count": null,
   "id": "595c90b1",
   "metadata": {},
   "outputs": [],
   "source": [
    "model_name = \"qwen2.5:7b\"\n",
    "model_path_name = f'../method_outputs/dan/{model_name}'\n",
    "template_path = '../prompt-templates/dan-template.json'\n",
    "data_path = '../dataset/cobia_dataset.json'\n",
    "\n",
    "company = 'QWEN'\n",
    "model_company = 'qwen Chat'"
   ]
  },
  {
   "cell_type": "code",
   "execution_count": null,
   "id": "e1e206dd-5c36-4af3-a301-561a4f01c491",
   "metadata": {},
   "outputs": [],
   "source": [
    "from openai import OpenAI\n",
    "\n",
    "client = OpenAI(\n",
    "    base_url = 'http://localhost:11434/v1',\n",
    "    api_key='ollama', # required, but unused\n",
    ")"
   ]
  },
  {
   "cell_type": "code",
   "execution_count": null,
   "id": "64cef71d-7124-4428-91dd-9fe3d0c24f35",
   "metadata": {},
   "outputs": [],
   "source": [
    "import json\n",
    "\n",
    "# Load the conversation history from the file\n",
    "with open(template_path, 'r') as f:\n",
    "    conversation_history = json.load(f)\n",
    "    \n",
    "    \n",
    "for entry in conversation_history[0:2]:\n",
    "    entry['content'] = entry['content'].format(model_company=model_company, company=company)\n",
    "\n",
    "danresponse = client.chat.completions.create(\n",
    "    model=model_name,\n",
    "    messages=conversation_history[0:2],\n",
    "    top_p = 0,\n",
    "    temperature = 0)\n",
    "\n",
    "\n",
    "for entry in conversation_history[0:3]:\n",
    "    entry['content'] = entry['content'].format(danresponse=danresponse.choices[0].message.content)\n"
   ]
  },
  {
   "cell_type": "code",
   "execution_count": null,
   "id": "38a5f1cc-9b23-49d7-a275-5e893dcf40d1",
   "metadata": {},
   "outputs": [],
   "source": [
    "import copy\n",
    "\n",
    "def run(model_name, ethnicity, neg):\n",
    "\n",
    "    messages = copy.deepcopy(conversation_history)\n",
    "\n",
    "    \n",
    "    for entry in messages:\n",
    "        entry['content'] = entry['content'].format(ethnicity=ethnicity, neg=neg)\n",
    "    \n",
    "    response = client.chat.completions.create(\n",
    "    model=model_name,\n",
    "    messages=messages,\n",
    "    top_p = 0,\n",
    "    temperature = 0)\n",
    "\n",
    "    assistant_message = response.choices[0].message.content\n",
    "    return assistant_message"
   ]
  },
  {
   "cell_type": "code",
   "execution_count": null,
   "id": "381e10b5-2f2c-4375-a2fa-6730d14951e0",
   "metadata": {},
   "outputs": [],
   "source": [
    "import os\n",
    "from tqdm import tqdm\n",
    "\n",
    "\n",
    "with open(data_path, 'r') as json_file:\n",
    "    data = json.load(json_file)\n",
    "\n",
    "if not os.path.exists(model_path_name):\n",
    "    os.makedirs(model_path_name)\n",
    "    \n",
    "for key, dict_list in data.items():\n",
    "    for item in tqdm(dict_list):\n",
    "        \n",
    "        file_name = f\"{key}-{item['descriptor']}.json\".replace('/', '')\n",
    "        file_path = os.path.join(model_path_name, file_name)\n",
    "        if os.path.exists(file_path):\n",
    "            continue\n",
    "\n",
    "        try:\n",
    "            output_text  = run(model_name, key, item['descriptor'])\n",
    "        except:\n",
    "            print(f\"Error writing to file: {file_path}\") \n",
    "            continue\n",
    "        result = {\n",
    "                \"group\": key,\n",
    "                \"descriptor\": item['descriptor'],\n",
    "                \"bias_type\": item[\"bias_type\"],\n",
    "                \"source\": item[\"source\"],  \n",
    "                \"output\": output_text,\n",
    "        }\n",
    "        with open(file_path, \"w\") as file:\n",
    "            json.dump(result, file, indent=4)"
   ]
  }
 ],
 "metadata": {
  "kernelspec": {
   "display_name": "Python 3 (ipykernel)",
   "language": "python",
   "name": "python3"
  },
  "language_info": {
   "codemirror_mode": {
    "name": "ipython",
    "version": 3
   },
   "file_extension": ".py",
   "mimetype": "text/x-python",
   "name": "python",
   "nbconvert_exporter": "python",
   "pygments_lexer": "ipython3",
   "version": "3.10.9"
  }
 },
 "nbformat": 4,
 "nbformat_minor": 5
}
